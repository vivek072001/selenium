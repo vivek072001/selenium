{
 "cells": [
  {
   "cell_type": "code",
   "execution_count": 10,
   "id": "a4e90f52",
   "metadata": {},
   "outputs": [],
   "source": [
    "from selenium import webdriver\n",
    "from selenium.webdriver.chrome.service import Service\n",
    "from selenium.webdriver.common.keys import Keys\n",
    "import time"
   ]
  },
  {
   "cell_type": "code",
   "execution_count": 11,
   "id": "fafa5332",
   "metadata": {},
   "outputs": [],
   "source": [
    "path=\"C:/Users/User/Downloads/seleniumres/chromedriver.exe\"\n",
    "s=Service(path)\n",
    "driver=webdriver.Chrome(service=s)\n",
    "driver.get(\"https://www.google.com/\")"
   ]
  },
  {
   "cell_type": "code",
   "execution_count": 12,
   "id": "b6694232",
   "metadata": {},
   "outputs": [
    {
     "data": {
      "text/plain": [
       "True"
      ]
     },
     "execution_count": 12,
     "metadata": {},
     "output_type": "execute_result"
    }
   ],
   "source": [
    "box=driver.find_element_by_xpath(\"/html/body/div[1]/div[3]/form/div[1]/div[1]/div[1]/div/div[2]/input\")\n",
    "box.send_keys(\"linkedin login\")\n",
    "box.send_keys(Keys.ENTER)\n",
    "time.sleep(3)\n",
    "\n",
    "driver.find_element_by_xpath(\"\"\"//*[@id=\"rso\"]/div[1]/div/div/div[1]/div/a\"\"\").click()\n",
    "bbb=driver.find_element_by_xpath(\"\"\"//*[@id=\"username\"]\"\"\")\n",
    "bbb.send_keys(\"viveksharma072001@gmail.com\")\n",
    "ccc=driver.find_element_by_xpath(\"\"\"//*[@id=\"password\"]\"\"\")\n",
    "ccc.send_keys(\"\")\n",
    "ccc.send_keys(Keys.ENTER)\n",
    "time.sleep(5)\n",
    "driver.save_screenshot(\"C:/Users/User/Downloads/seleniumres/firstpost.png\")\n"
   ]
  },
  {
   "cell_type": "code",
   "execution_count": null,
   "id": "555e79a9",
   "metadata": {},
   "outputs": [],
   "source": []
  },
  {
   "cell_type": "code",
   "execution_count": null,
   "id": "8ba7032c",
   "metadata": {},
   "outputs": [],
   "source": []
  },
  {
   "cell_type": "code",
   "execution_count": null,
   "id": "f4e71f4a",
   "metadata": {},
   "outputs": [],
   "source": []
  }
 ],
 "metadata": {
  "kernelspec": {
   "display_name": "Python 3 (ipykernel)",
   "language": "python",
   "name": "python3"
  },
  "language_info": {
   "codemirror_mode": {
    "name": "ipython",
    "version": 3
   },
   "file_extension": ".py",
   "mimetype": "text/x-python",
   "name": "python",
   "nbconvert_exporter": "python",
   "pygments_lexer": "ipython3",
   "version": "3.11.0"
  }
 },
 "nbformat": 4,
 "nbformat_minor": 5
}
